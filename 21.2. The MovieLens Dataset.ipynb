{
 "cells": [
  {
   "cell_type": "code",
   "execution_count": 1,
   "metadata": {},
   "outputs": [],
   "source": [
    "import os\n",
    "import zipfile\n",
    "\n",
    "import pandas as pd\n",
    "import numpy as np\n",
    "import matplotlib.pyplot as plt\n",
    "from torch.utils.data import Dataset\n",
    "from torch.utils.data import DataLoader"
   ]
  },
  {
   "cell_type": "code",
   "execution_count": 2,
   "metadata": {},
   "outputs": [],
   "source": [
    "file_name = \"ml-100k.zip\"\n",
    "\n",
    "with zipfile.ZipFile(file_name, 'r') as zip_file:\n",
    "    zip_file.extractall()"
   ]
  },
  {
   "cell_type": "code",
   "execution_count": 3,
   "metadata": {},
   "outputs": [],
   "source": [
    "def read_data_ml100k():\n",
    "    data_dir = \"ml-100k\"\n",
    "    names = ['user_id', 'item_id', 'rating', 'timestamp']\n",
    "    data = pd.read_csv(os.path.join(data_dir, 'u.data'), sep='\\t',\n",
    "                       names=names, engine='python')\n",
    "    num_users = data.user_id.unique().shape[0]\n",
    "    num_items = data.item_id.unique().shape[0]\n",
    "    return data, num_users, num_items"
   ]
  },
  {
   "cell_type": "code",
   "execution_count": 4,
   "metadata": {},
   "outputs": [
    {
     "name": "stdout",
     "output_type": "stream",
     "text": [
      "number of users: 943, number of items: 1682\n",
      "matrix sparsity: 0.936953\n",
      "   user_id  item_id  rating  timestamp\n",
      "0      196      242       3  881250949\n",
      "1      186      302       3  891717742\n",
      "2       22      377       1  878887116\n",
      "3      244       51       2  880606923\n",
      "4      166      346       1  886397596\n"
     ]
    }
   ],
   "source": [
    "data, num_users, num_items = read_data_ml100k()\n",
    "sparsity = 1 - len(data) / (num_users * num_items)\n",
    "print(f'number of users: {num_users}, number of items: {num_items}')\n",
    "print(f'matrix sparsity: {sparsity:f}')\n",
    "print(data.head(5))"
   ]
  },
  {
   "cell_type": "code",
   "execution_count": 5,
   "metadata": {},
   "outputs": [
    {
     "data": {
      "image/png": "[encoded data removed]",
      "text/plain": [
       "<Figure size 640x480 with 1 Axes>"
      ]
     },
     "metadata": {},
     "output_type": "display_data"
    }
   ],
   "source": [
    "plt.hist(data['rating'], bins=5, ec='black')\n",
    "plt.xlabel(\"Rating\")\n",
    "plt.ylabel(\"Count\")\n",
    "plt.title(\"Distribution of Ratings in MovieLens 100K\")\n",
    "plt.show()"
   ]
  },
  {
   "cell_type": "code",
   "execution_count": 6,
   "metadata": {},
   "outputs": [],
   "source": [
    "def split_data_ml100k(data, num_users, num_items,\n",
    "                      split_mode='random', test_ratio=0.1):\n",
    "    if split_mode == 'seq-aware':\n",
    "        train_items, test_items, train_list = {}, {}, []\n",
    "        for line in data.itertuples():\n",
    "            u, i, rating, time = line[1], line[2], line[3], line[4]\n",
    "            train_items.setdefault(u, []).append((u, i, rating, time))\n",
    "            if u not in test_items or test_items[u][-1] < time:\n",
    "                test_items[u] = (i, rating, time)\n",
    "        for u in range(1, num_users+1):\n",
    "            train_list.extend(sorted(train_items[u], key=lambda k: k[3]))\n",
    "        test_data = [(key, *value) for key, value in test_items.items()]\n",
    "        train_data = [item for item in train_list if item not in test_data]\n",
    "        train_data = pd.DataFrame(train_data)\n",
    "        test_data = pd.DataFrame(test_data)\n",
    "    else:\n",
    "        mask = [True if x == 1 else False for x in np.random.uniform(\n",
    "            0, 1, (len(data))) < 1 - test_ratio]\n",
    "        neg_mask = [not x for x in mask]\n",
    "        train_data, test_data = data[mask], data[neg_mask]\n",
    "    return train_data, test_data"
   ]
  },
  {
   "cell_type": "code",
   "execution_count": 7,
   "metadata": {},
   "outputs": [],
   "source": [
    "def load_data_ml100k(data, num_users, num_items, feedback='explicit'):\n",
    "    users, items, scores = [], [], []\n",
    "    inter = np.zeros((num_items, num_users)) if feedback == 'explicit' else {}\n",
    "    for line in data.itertuples():\n",
    "        user_index, item_index = int(line[1] - 1), int(line[2] - 1)\n",
    "        score = int(line[3]) if feedback == 'explicit' else 1\n",
    "        users.append(user_index)\n",
    "        items.append(item_index)\n",
    "        scores.append(score)\n",
    "        if feedback == 'implicit':\n",
    "            inter.setdefault(user_index, []).append(item_index)\n",
    "        else:\n",
    "            inter[item_index, user_index] = score\n",
    "    return users, items, scores, inter"
   ]
  },
  {
   "cell_type": "code",
   "execution_count": 8,
   "metadata": {},
   "outputs": [],
   "source": [
    "class ArrayDataset(Dataset):\n",
    "    def __init__(self, u, i, r):\n",
    "        self.u = u\n",
    "        self.i = i\n",
    "        self.r = r\n",
    "    \n",
    "    def __len__(self):\n",
    "        return len(self.u)\n",
    "    \n",
    "    def __getitem__(self, idx):\n",
    "        return (self.u[idx], self.i[idx], self.r[idx])"
   ]
  },
  {
   "cell_type": "code",
   "execution_count": 9,
   "metadata": {},
   "outputs": [],
   "source": [
    "def split_and_load_ml100k(split_mode='seq-aware', feedback='explicit',\n",
    "                          test_ratio=0.1, batch_size=256):\n",
    "    data, num_users, num_items = read_data_ml100k()\n",
    "    train_data, test_data = split_data_ml100k(\n",
    "        data, num_users, num_items, split_mode, test_ratio)\n",
    "    train_u, train_i, train_r, _ = load_data_ml100k(\n",
    "        train_data, num_users, num_items, feedback)\n",
    "    test_u, test_i, test_r, _ = load_data_ml100k(\n",
    "        test_data, num_users, num_items, feedback)\n",
    "    train_set = ArrayDataset(\n",
    "        np.array(train_u), np.array(train_i), np.array(train_r))\n",
    "    test_set = ArrayDataset(\n",
    "        np.array(test_u), np.array(test_i), np.array(test_r))\n",
    "    train_iter = DataLoader(\n",
    "        train_set, shuffle=True, batch_size=batch_size)\n",
    "    test_iter = DataLoader(\n",
    "        test_set, batch_size=batch_size)\n",
    "    return num_users, num_items, train_iter, test_iter"
   ]
  },
  {
   "cell_type": "code",
   "execution_count": 10,
   "metadata": {},
   "outputs": [],
   "source": [
    "num_users, num_items, train_iter, test_iter = split_and_load_ml100k()"
   ]
  },
  {
   "cell_type": "code",
   "execution_count": 11,
   "metadata": {},
   "outputs": [
    {
     "data": {
      "text/plain": [
       "[tensor([626, 176, 458,  81, 177, 711, 278, 166, 229, 698, 525, 709, 436, 408,\n",
       "         884, 116, 261, 718, 633, 343, 290, 333, 269, 711, 384,  25,  77,  89,\n",
       "         216,   7,  58,  67, 585, 845, 312, 404, 669, 206, 513, 451, 284,   4,\n",
       "         496,  63,   6, 626, 832,  93, 499,  84, 140, 322,  12, 875, 362, 518,\n",
       "          49, 405, 785, 683, 493, 720, 879, 657, 248, 878, 884, 360, 496, 222,\n",
       "         114, 307, 194, 298,  81, 406, 889, 887, 333, 817, 880, 488,   6,  58,\n",
       "         556, 243, 834, 641, 312, 395, 364, 235, 681, 642, 406, 342, 188, 689,\n",
       "          11, 550, 404,   0, 523, 607, 415, 161, 404, 536, 149, 535, 737, 398,\n",
       "         456,  12,   5, 902,   6, 597, 505, 192, 436, 794, 428, 463, 879, 621,\n",
       "         715, 901, 832, 379, 926,  94, 743, 278, 505, 331, 526, 787, 451,  12,\n",
       "         294,  12, 772,  94, 200, 455, 692, 523, 262, 470, 287, 708, 144, 880,\n",
       "         416, 129, 804, 933, 926, 283, 756, 449, 585, 379, 342, 786, 457,  14,\n",
       "         681, 649, 200, 221, 457, 715, 424,  90, 386, 647, 866, 917, 765, 428,\n",
       "         206, 193, 881, 566, 378, 693, 726, 842, 500, 307, 806, 435, 485, 660,\n",
       "         446, 668, 920, 718, 600, 593, 603, 668, 300, 419,  75, 234,   4,  13,\n",
       "          21, 307, 177, 895, 292, 832, 748, 917, 781, 462, 621, 404,   4, 804,\n",
       "         372, 861, 640, 292, 760, 379, 459, 654, 294, 333, 492, 864, 915, 693,\n",
       "          37, 268, 471, 362, 884, 267, 403, 157, 882,  55, 882, 715,   6, 295,\n",
       "         895, 177, 404,  61]),\n",
       " tensor([ 561,  567,  120,   14,  244,  400,  508,  567,  131, 1059,  247, 1100,\n",
       "          583,  186,  110, 1056,  269,  288,  339,  175,   10,  235,  249,  587,\n",
       "         1013,  248,  326,  613,   55,  340,  769,  925,  158,  720,    7, 1004,\n",
       "          479,  106,   72,   65,  287,  226,  174,  140,  181,   54,   25,  575,\n",
       "           58, 1152,  618,  198,  233,  237,  473,  902,  326,  205,  284,  584,\n",
       "          321,  263,  380,  510,  430,  596,  450,  274,  121, 1299,   55,  841,\n",
       "          153,   87,  538,  746, 1064,  630,   43,  257,  177,  357,   53,  582,\n",
       "          342,  171,  611,  770,  744,  150,   14,  171,  923,   54,  714,   37,\n",
       "         1019,    7,  173,  110,  564,  180,  492,  274,  737,  402,  370,  958,\n",
       "          324,  401,  549, 1243,  372,  505,  116,  474,  639,  689,  602,  404,\n",
       "          738,  745,   69,  126,  817,  794,  502,  257,  409,  214,  409,   98,\n",
       "          301,  431,   41,  331,  175,  140, 1088,  288,  190,  184,  227,   69,\n",
       "          855,  230,  605,  854,   96,   70,   97,  746,  730,  179,  449,  173,\n",
       "          330,  793,   93,  323,   96,  191,  172,   30,   67,  346,  429,  126,\n",
       "          942,  513,  202,  567,  426,  199,  232,  130,  671,  442,  257, 1199,\n",
       "          678,  472,  238,  539,  221,  474,  178,  173,  383,  249,  843,  164,\n",
       "          678,  747,  689,  356, 1008,  526,  236,  377,  933,  519,  557,  190,\n",
       "          185,  115,  627,    6,  168,  221,  203,  465,  992,  140,  808,   52,\n",
       "         1027,   71,  331,  318,  780,   60,    1,  770,  602,  520,  513,   25,\n",
       "         1286,  160,  274,  282,  641,  536,  368,  587,  238,  201,  403,  478,\n",
       "          383,  624,  142,  939,  753,  865,  150,  385, 1020,  627,  495,  749,\n",
       "          392,  627,  420,   85]),\n",
       " tensor([2, 3, 5, 3, 3, 3, 3, 3, 5, 3, 4, 4, 3, 3, 4, 2, 3, 2, 4, 5, 4, 4, 2, 4,\n",
       "         2, 2, 1, 4, 5, 2, 4, 1, 4, 4, 3, 1, 5, 3, 4, 4, 5, 4, 4, 4, 4, 4, 1, 2,\n",
       "         4, 4, 4, 4, 5, 4, 5, 5, 3, 1, 3, 2, 2, 1, 4, 4, 5, 2, 2, 4, 1, 1, 5, 3,\n",
       "         3, 3, 3, 3, 3, 4, 4, 4, 3, 5, 3, 5, 4, 4, 4, 3, 3, 3, 3, 3, 5, 4, 4, 3,\n",
       "         4, 4, 5, 5, 2, 5, 4, 5, 2, 3, 1, 3, 1, 4, 3, 3, 2, 5, 2, 4, 3, 3, 5, 3,\n",
       "         3, 3, 4, 5, 2, 2, 3, 3, 3, 3, 1, 4, 5, 3, 3, 4, 2, 3, 1, 2, 5, 3, 3, 4,\n",
       "         3, 2, 4, 4, 4, 3, 5, 2, 3, 5, 2, 5, 4, 4, 2, 3, 4, 4, 3, 1, 1, 4, 5, 2,\n",
       "         3, 3, 5, 5, 4, 4, 2, 2, 2, 2, 3, 4, 3, 3, 3, 1, 5, 4, 5, 5, 2, 4, 4, 3,\n",
       "         4, 3, 2, 4, 4, 3, 3, 4, 1, 4, 4, 3, 4, 4, 2, 4, 5, 4, 5, 5, 5, 3, 2, 1,\n",
       "         4, 1, 4, 1, 3, 1, 3, 5, 4, 5, 4, 3, 1, 2, 3, 3, 4, 4, 2, 2, 3, 4, 5, 4,\n",
       "         3, 4, 4, 2, 3, 2, 5, 3, 5, 3, 5, 5, 3, 4, 1, 2])]"
      ]
     },
     "execution_count": 11,
     "metadata": {},
     "output_type": "execute_result"
    }
   ],
   "source": [
    "next(iter(train_iter))"
   ]
  }
 ],
 "metadata": {
  "kernelspec": {
   "display_name": "base",
   "language": "python",
   "name": "python3"
  },
  "language_info": {
   "codemirror_mode": {
    "name": "ipython",
    "version": 3
   },
   "file_extension": ".py",
   "mimetype": "text/x-python",
   "name": "python",
   "nbconvert_exporter": "python",
   "pygments_lexer": "ipython3",
   "version": "3.11.7"
  }
 },
 "nbformat": 4,
 "nbformat_minor": 2
}
