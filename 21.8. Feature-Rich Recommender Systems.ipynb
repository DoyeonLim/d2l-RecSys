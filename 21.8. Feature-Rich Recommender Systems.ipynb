{
 "cells": [
  {
   "cell_type": "code",
   "execution_count": 1,
   "metadata": {},
   "outputs": [],
   "source": [
    "import numpy as np\n",
    "from collections import defaultdict\n",
    "\n",
    "from torch.utils.data import Dataset"
   ]
  },
  {
   "cell_type": "code",
   "execution_count": 2,
   "metadata": {},
   "outputs": [],
   "source": [
    "class CTRDataset(Dataset):\n",
    "    def __init__(self, data_path, feat_mapper=None, defaults=None,\n",
    "                 min_threshold=4, num_feat=34):\n",
    "        self.NUM_FEATS, self.count, self.data = num_feat, 0, {}\n",
    "        feat_cnts = defaultdict(lambda: defaultdict(int))\n",
    "        self.feat_mapper, self.defaults = feat_mapper, defaults\n",
    "        self.field_dims = np.zeros(self.NUM_FEATS, dtype=np.int64)\n",
    "        with open(data_path) as f:\n",
    "            for line in f:\n",
    "                instance = {}\n",
    "                values = line.rstrip('\\n').split('\\t')\n",
    "                if len(values) != self.NUM_FEATS + 1:\n",
    "                    continue\n",
    "                label = np.float32([0, 0])\n",
    "                label[int(values[0])] = 1\n",
    "                instance['y'] = [np.float32(values[0])]\n",
    "                for i in range(1, self.NUM_FEATS + 1): # 가장 첫번째는 0,1 값\n",
    "                    feat_cnts[i][values[i]] += 1\n",
    "                    instance.setdefault('x', []).append(values[i])\n",
    "                self.data[self.count] = instance\n",
    "                self.count = self.count + 1\n",
    "        if self.feat_mapper is None and self.defaults is None:\n",
    "            feat_mapper = {i: {feat for feat, c in cnt.items() if c >=\n",
    "                               min_threshold} for i, cnt in feat_cnts.items()}\n",
    "            self.feat_mapper = {i: {feat_v: idx for idx, feat_v in enumerate(feat_values)}\n",
    "                                for i, feat_values in feat_mapper.items()}\n",
    "            self.defaults = {i: len(feat_values) for i, feat_values in feat_mapper.items()}\n",
    "        for i, fm in self.feat_mapper.items():\n",
    "            self.field_dims[i - 1] = len(fm) + 1\n",
    "        self.offsets = np.array((0, *np.asarray(np.cumsum(self.field_dims))\n",
    "                                 [:-1]))\n",
    "\n",
    "    def __len__(self):\n",
    "        return self.count\n",
    "\n",
    "    def __getitem__(self, idx):\n",
    "        feat = np.array([self.feat_mapper[i + 1].get(v, self.defaults[i + 1])\n",
    "                         for i, v in enumerate(self.data[idx]['x'])])\n",
    "        return feat + self.offsets, self.data[idx]['y']"
   ]
  },
  {
   "cell_type": "code",
   "execution_count": 3,
   "metadata": {},
   "outputs": [
    {
     "data": {
      "text/plain": [
       "(array([ 143,  145,  227,  240,  957, 1250, 1471, 1566, 1624, 1949, 2008,\n",
       "        2061, 2081, 2304, 2305, 2360, 2745, 2746, 2747, 2748, 2892, 2988,\n",
       "        3165, 3177, 3194, 3195, 3264, 3664, 3687, 3706, 3720, 3754, 3781,\n",
       "        3801]),\n",
       " [1.0])"
      ]
     },
     "execution_count": 3,
     "metadata": {},
     "output_type": "execute_result"
    }
   ],
   "source": [
    "train_data = CTRDataset(\"/home/doyeon/yeons/d2l-recsys/d2l-RecSys/ctr/train.csv\")\n",
    "train_data[0]"
   ]
  }
 ],
 "metadata": {
  "kernelspec": {
   "display_name": "base",
   "language": "python",
   "name": "python3"
  },
  "language_info": {
   "codemirror_mode": {
    "name": "ipython",
    "version": 3
   },
   "file_extension": ".py",
   "mimetype": "text/x-python",
   "name": "python",
   "nbconvert_exporter": "python",
   "pygments_lexer": "ipython3",
   "version": "3.11.7"
  }
 },
 "nbformat": 4,
 "nbformat_minor": 2
}
